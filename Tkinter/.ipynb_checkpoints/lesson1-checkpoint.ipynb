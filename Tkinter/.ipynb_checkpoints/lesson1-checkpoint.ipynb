{
 "cells": [
  {
   "cell_type": "markdown",
   "metadata": {},
   "source": [
    "# Building Your First GUI Application With Tkinter\n"
   ]
  },
  {
   "cell_type": "markdown",
   "metadata": {},
   "source": [
    "## Creating a window"
   ]
  },
  {
   "cell_type": "markdown",
   "metadata": {},
   "source": [
    "The foundational element of a Tkinter GUI is the **window**. Windows are the containers in which all other GUI elements live. These other GUI elements, such as text boxes, labels, and buttons, are known as **widgets**. Widgets are contained inside of windows."
   ]
  },
  {
   "cell_type": "code",
   "execution_count": 1,
   "metadata": {},
   "outputs": [],
   "source": [
    "import tkinter as tk\n",
    "\n",
    "window = tk.Tk()"
   ]
  },
  {
   "cell_type": "markdown",
   "metadata": {},
   "source": [
    "We created a window, but after running this code nothing happens. In order to see the window we need to run the **mainloop()** method on our window object. This method tells Python to run the Tkinter event loop and listens for events, such as button clicks or keypresses."
   ]
  },
  {
   "cell_type": "code",
   "execution_count": 9,
   "metadata": {},
   "outputs": [],
   "source": [
    "import tkinter as tk\n",
    "\n",
    "window = tk.Tk()\n",
    "\n",
    "window.mainloop()"
   ]
  },
  {
   "cell_type": "markdown",
   "metadata": {},
   "source": [
    "## Creating a widget"
   ]
  },
  {
   "cell_type": "markdown",
   "metadata": {},
   "source": [
    "Now that we have an empty window, we can put something inside. Objects inside a window are called widgets and now we are going to create a **label**."
   ]
  },
  {
   "cell_type": "code",
   "execution_count": 10,
   "metadata": {},
   "outputs": [],
   "source": [
    "import tkinter as tk\n",
    "\n",
    "window = tk.Tk()\n",
    "\n",
    "label = tk.Label(text = \"Hello, Tkinter\")\n",
    "label.pack()\n",
    "\n",
    "window.mainloop()"
   ]
  },
  {
   "cell_type": "markdown",
   "metadata": {},
   "source": [
    "We created a label using the Tkinter Label class. But after running this code without the **pack()** method the window wouldn't change. That's because after creating a widged, we need to insert it into our choosen window. **The window is going to get as big as the size of the given argument because we didn't specify the size of the window, and the pack() method resizes the window by deafult to suit the widget**.\n",
    "\n",
    "There are a few widget classes that are most common:\n",
    "* Label\n",
    "* Button\n",
    "* Entry\n",
    "* Text\n",
    "* Frame"
   ]
  },
  {
   "cell_type": "markdown",
   "metadata": {},
   "source": [
    "## Labels\n",
    "Labels are used to display text or images. We can change the colors of both text **background** (use alias \"bg\") and **foreground** (use alias \"fg\"). We can also specify the width and height of a label which is measured in respectively the width of character **'0'** and hight of character **'0'**. \n",
    "\n",
    "*Keep that in mind, besause seting the measurments to 10x10 istn't going to create a square label, because the height of character '0' is bigger than it's width. Measuring units by the width of a character means that the size of a widget is relative to the default font on a user’s machine. This ensures the text fits properly in labels and buttons, no matter where the application is running.*"
   ]
  },
  {
   "cell_type": "code",
   "execution_count": 13,
   "metadata": {},
   "outputs": [],
   "source": [
    "import tkinter as tk\n",
    "\n",
    "window = tk.Tk()\n",
    "\n",
    "label = tk.Label(\n",
    "    text = \"Hello, Tkinter\",\n",
    "    bg = 'blue',\n",
    "    fg = 'white',\n",
    "    width = 10,\n",
    "    height = 5\n",
    ")\n",
    "\n",
    "label.pack()\n",
    "\n",
    "window.mainloop()"
   ]
  },
  {
   "cell_type": "markdown",
   "metadata": {},
   "source": [
    "## Buttons\n",
    "Adding a button is very similar to adding a label. All the keyword arguments are inserted in the same way but, we can assign a function to be called whenever it is pressed - but we'll do that later."
   ]
  },
  {
   "cell_type": "code",
   "execution_count": 14,
   "metadata": {},
   "outputs": [],
   "source": [
    "import tkinter as tk\n",
    "\n",
    "window = tk.Tk()\n",
    "\n",
    "button = tk.Button(\n",
    "    text=\"Click me!\",\n",
    "    width=25,\n",
    "    height=5,\n",
    "    bg=\"blue\",\n",
    "    fg=\"yellow\",\n",
    ")\n",
    "\n",
    "button.pack()\n",
    "\n",
    "window.mainloop()"
   ]
  },
  {
   "cell_type": "markdown",
   "metadata": {},
   "source": [
    "## Entries\n",
    "An entry takes a one line of input and has three basic methods:\n",
    "* get() - returns what the entry contains \n",
    "* delete() - deletes a character at a given index in the entry\n",
    "* insert() - inserts a character at a given index in the entry\n"
   ]
  },
  {
   "cell_type": "code",
   "execution_count": 21,
   "metadata": {},
   "outputs": [],
   "source": [
    "import tkinter as tk\n",
    "\n",
    "window = tk.Tk()\n",
    "\n",
    "label = tk.Label(text = \"Name\")\n",
    "entry = tk.Entry()\n",
    "\n",
    "label.pack()\n",
    "entry.pack()\n",
    "\n",
    "\n",
    "window.mainloop()"
   ]
  },
  {
   "cell_type": "markdown",
   "metadata": {},
   "source": [
    "## Text widgets\n",
    "Text widgets take multiple lines of user input and have the same methods as the entry widget although there are some diffrences.\n",
    "\n",
    "***Just like Entry widgets, you can retrieve the text from a Text widget using .get(). However, calling .get() with no arguments doesn’t return the full text in the text box like it does for Entry widgets. It raises an exception.***\n",
    "*TypeError: get() missing 1 required positional argument: 'index1'*\n",
    "\n",
    "ext.get() required at least one argument. Calling .get() with a single index returns a single character. To retrieve several characters, you need to pass a start index and an end index. Indices in Text widgets work differently than Entry widgets. Since Text widgets can have several lines of text, an index must contain two pieces of information:\n",
    "\n",
    "The line number of a character\n",
    "The position of a character on that line\n",
    "Line numbers start with 1, and character positions start with 0. To make an index, you create a string of the form \"<line>.<char>\", replacing <line> with the line number and <char> with the character number. For example, \"1.0\" represents the first character on the first line, and \"2.3\" represents the fourth character on the second line.\n",
    "    \n",
    "To get all of the text in a text box, set the starting index in \"1.0\" and use the special tk.END constant for the second index:\n",
    "    \n",
    "    text_box.get(\"1.0\", tk.END)\n",
    "        'Hello\\nWorld\\n' \n",
    "    \n",
    "***Same applies to delete() method***\n",
    "    To clear out the whole window try:\n",
    "    \n",
    "    text_box.delete(\"1.0\", tk.END)\n",
    "    \n",
    "***And Insert() method***\n",
    "    \n",
    "    text_box.insert(\"1.0\", \"Hello\")\n",
    "    \n",
    "    If you want to insert text onto a new line, then you need to insert a newline character manually into the string being inserted:\n",
    "    \n",
    "    text_box.insert(\"2.0\", \"\\nWorld\")\n",
    "    "
   ]
  },
  {
   "cell_type": "code",
   "execution_count": 26,
   "metadata": {},
   "outputs": [],
   "source": [
    "import tkinter as tk\n",
    "\n",
    "window = tk.Tk()\n",
    "\n",
    "text_box = tk.Text()\n",
    "text_box.pack()\n",
    "text_box.insert(\"1.0\", \"Hello\")\n",
    "text_box.insert(\"2.0\", \"\\nWorld\")\n",
    "\n",
    "\n",
    "window.mainloop()"
   ]
  },
  {
   "cell_type": "markdown",
   "metadata": {},
   "source": [
    "# Frames\n",
    "Frame widgets are important for organizing the layout of your widgets in an application. We can assign a widget to a frame using the **\"master\"** argument"
   ]
  },
  {
   "cell_type": "code",
   "execution_count": 36,
   "metadata": {},
   "outputs": [],
   "source": [
    "import tkinter as tk\n",
    "\n",
    "window = tk.Tk()\n",
    "frame_a = tk.Frame()\n",
    "frame_b = tk.Frame()\n",
    "label_a = tk.Label(text = \"I'm inside frame a\", master = frame_a)\n",
    "label_b = tk.Label(text = \"I'm inside frame b\", master = frame_b)\n",
    "\n",
    "label_a.pack()\n",
    "label_b.pack()\n",
    "frame_a.pack()\n",
    "frame_b.pack()\n",
    "\n",
    "window.mainloop()"
   ]
  },
  {
   "cell_type": "markdown",
   "metadata": {},
   "source": [
    "Frame widgets can be configured with a relief attribute that creates a border around the frame. You can set relief to be any of the following values:\n",
    "\n",
    "* tk.FLAT: Has no border effect (the default value).\n",
    "* tk.SUNKEN: Creates a sunken effect.\n",
    "* tk.RAISED: Creates a raised effect.\n",
    "* tk.GROOVE: Creates a grooved border effect.\n",
    "* tk.RIDGE: Creates a ridged effect.\n",
    "\n",
    "**To apply the border effect, you must set the borderwidth attribute to a value greater than 1.**"
   ]
  },
  {
   "cell_type": "code",
   "execution_count": 35,
   "metadata": {},
   "outputs": [],
   "source": [
    "import tkinter as tk\n",
    "\n",
    "border_effects = {\n",
    "    \"flat\": tk.FLAT,\n",
    "    \"sunken\": tk.SUNKEN,\n",
    "    \"raised\": tk.RAISED,\n",
    "    \"groove\": tk.GROOVE,\n",
    "    \"ridge\": tk.RIDGE,\n",
    "}\n",
    "\n",
    "window = tk.Tk()\n",
    "\n",
    "for relief_name, relief in border_effects.items():\n",
    "    frame = tk.Frame(master=window, relief=relief, borderwidth=10)\n",
    "    frame.pack(side=tk.LEFT)\n",
    "    label = tk.Label(master=frame, text=relief_name)\n",
    "    label.pack()\n",
    "\n",
    "    \n",
    "window.mainloop()"
   ]
  },
  {
   "cell_type": "code",
   "execution_count": 41,
   "metadata": {},
   "outputs": [],
   "source": [
    "import tkinter as tk\n",
    "\n",
    "window = tk.Tk()\n",
    "ent = tk.Entry(width = 40, bg = \"white\", fg = \"black\")\n",
    "ent.insert(0, \"What is your name?\")\n",
    "ent.pack()\n",
    "\n",
    "window.mainloop()"
   ]
  },
  {
   "cell_type": "markdown",
   "metadata": {},
   "source": [
    "## pack() geometry manager\n",
    ".pack() uses a packing algorithm to place widgets in a Frame or window in a specified order. For a given widget, the packing algorithm has two primary steps:\n",
    "\n",
    "1. Compute a rectangular area called a parcel that’s just tall (or wide) enough to hold the widget and fills the remaining width (or height) in the window with blank space.\n",
    "2. Center the widget in the parcel unless a different location is specified.\n",
    "\n",
    "**.pack()** accepts some keyword arguments for more precisely configuring widget placement. For example, you can set the fill keyword argument to specify in which direction the frames should fill. The options are **tk.X** to fill in the horizontal direction, **tk.Y** to fill vertically, and **tk.BOTH** to fill in both directions.\n",
    "\n"
   ]
  },
  {
   "cell_type": "code",
   "execution_count": null,
   "metadata": {},
   "outputs": [],
   "source": [
    "import tkinter as tk\n",
    "\n",
    "window = tk.Tk()\n",
    "\n",
    "frame1 = tk.Frame(master=window, height=100, bg=\"red\")\n",
    "frame1.pack(fill=tk.X)\n",
    "\n",
    "frame2 = tk.Frame(master=window, height=50, bg=\"yellow\")\n",
    "frame2.pack(fill=tk.X)\n",
    "\n",
    "frame3 = tk.Frame(master=window, height=25, bg=\"blue\")\n",
    "frame3.pack(fill=tk.X)\n",
    "\n",
    "window.mainloop()"
   ]
  },
  {
   "cell_type": "markdown",
   "metadata": {},
   "source": [
    "The side keyword argument of .pack() specifies on which side of the window the widget should be placed. These are the available options:\n",
    "1. tk.TOP - default \n",
    "2. tk.BOTTOM\n",
    "3. tk.LEFT\n",
    "4. tk.RIGH\n",
    "\n",
    "**This time, you have to specify the height keyword argument on at least one of the frames to force the window to have some height.**"
   ]
  },
  {
   "cell_type": "code",
   "execution_count": 50,
   "metadata": {},
   "outputs": [],
   "source": [
    "import tkinter as tk\n",
    "\n",
    "window = tk.Tk()\n",
    "\n",
    "frame1 = tk.Frame(master=window, width=200, height=100, bg=\"red\")\n",
    "frame1.pack(fill=tk.Y, side=tk.LEFT)\n",
    "\n",
    "frame2 = tk.Frame(master=window, width=100, bg=\"yellow\")\n",
    "frame2.pack(fill=tk.Y, side=tk.LEFT)\n",
    "\n",
    "frame3 = tk.Frame(master=window, width=50, bg=\"blue\")\n",
    "frame3.pack(fill=tk.Y, side=tk.LEFT)\n",
    "\n",
    "window.mainloop()"
   ]
  },
  {
   "cell_type": "markdown",
   "metadata": {},
   "source": [
    "To make the layout truly responsive, you can set an initial size for your frames using the width and height attributes. Then, set the fill keyword argument of **.pack()** to **tk.BOTH** and set the **expand** keyword argument to **True**:"
   ]
  },
  {
   "cell_type": "code",
   "execution_count": 51,
   "metadata": {},
   "outputs": [],
   "source": [
    "import tkinter as tk\n",
    "\n",
    "window = tk.Tk()\n",
    "\n",
    "frame1 = tk.Frame(master=window, width=200, height=100, bg=\"red\")\n",
    "frame1.pack(fill=tk.BOTH, side=tk.LEFT, expand=True)\n",
    "\n",
    "frame2 = tk.Frame(master=window, width=100, bg=\"yellow\")\n",
    "frame2.pack(fill=tk.BOTH, side=tk.LEFT, expand=True)\n",
    "\n",
    "frame3 = tk.Frame(master=window, width=50, bg=\"blue\")\n",
    "frame3.pack(fill=tk.BOTH, side=tk.LEFT, expand=True)\n",
    "\n",
    "window.mainloop()"
   ]
  },
  {
   "cell_type": "markdown",
   "metadata": {},
   "source": [
    "There are also two other main geometry managers which are:\n",
    "1. **place()**\n",
    "2. **grid()**\n",
    "\n",
    "But for now on, pack() method is enough for beginner purposes. Just keep in mind that these two exist and you can use them for a more specified and detailed layout of the widgets.\n"
   ]
  },
  {
   "cell_type": "code",
   "execution_count": 86,
   "metadata": {},
   "outputs": [],
   "source": [
    "# exercise\n",
    "import tkinter as tk\n",
    "\n",
    "window = tk.Tk()\n",
    "window.title(\"Address Entry Form\")\n",
    "\n",
    "frm_form = tk.Frame(master = window, borderwidth = 3, relief = tk.SUNKEN)\n",
    "frm_form.pack(fill = tk.BOTH, expand = True)\n",
    "\n",
    "labels = [\n",
    "    \"First Name:\",\n",
    "    \"Last Name:\",\n",
    "    \"Address Line 1:\",\n",
    "    \"Address Line 2:\",\n",
    "    \"City:\",\n",
    "    \"State/Province:\",\n",
    "    \"Postal Code:\",\n",
    "    \"Country:\",\n",
    "]\n",
    "\n",
    "for id_x, text in enumerate(labels):\n",
    "    label = tk.Label(master = frm_form, text = text)\n",
    "    entry = tk.Entry(master = frm_form, width = 50)\n",
    "    \n",
    "    label.grid(row=id_x, column = 0, sticky = \"e\")\n",
    "    entry.grid(row=id_x, column = 1)\n",
    "\n",
    "    \n",
    "frm_buttons = tk.Frame(master = window)\n",
    "frm_buttons.pack(fill = tk.BOTH, ipadx = 5, ipady = 5, expand = True)\n",
    "\n",
    "submit_btn = tk.Button(master = frm_buttons, text = \"Submit\")\n",
    "clear_btn = tk.Button(master = frm_buttons, text = \"Clear\")\n",
    "submit_btn.pack(side = tk.RIGHT, padx = 10, ipadx = 10)\n",
    "clear_btn.pack(side = tk.RIGHT, padx = 10, ipadx = 10)\n",
    "\n",
    "\n",
    "window.mainloop()"
   ]
  },
  {
   "cell_type": "code",
   "execution_count": null,
   "metadata": {},
   "outputs": [],
   "source": [
    "import tkinter as tk\n",
    "\n",
    "window = tk.Tk()\n",
    "\n",
    "def handle_keypress(event):\n",
    "    \"\"\"Print the character associated to the key pressed\"\"\"\n",
    "    print(event.char)\n",
    "\n",
    "# Bind keypress event to handle_keypress()\n",
    "window.bind(\"<Key>\", handle_keypress)\n",
    "\n",
    "window.mainloop()"
   ]
  },
  {
   "cell_type": "code",
   "execution_count": null,
   "metadata": {},
   "outputs": [],
   "source": []
  }
 ],
 "metadata": {
  "kernelspec": {
   "display_name": "Python 3",
   "language": "python",
   "name": "python3"
  },
  "language_info": {
   "codemirror_mode": {
    "name": "ipython",
    "version": 3
   },
   "file_extension": ".py",
   "mimetype": "text/x-python",
   "name": "python",
   "nbconvert_exporter": "python",
   "pygments_lexer": "ipython3",
   "version": "3.7.6"
  }
 },
 "nbformat": 4,
 "nbformat_minor": 4
}
