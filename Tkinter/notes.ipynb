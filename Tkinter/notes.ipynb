{
 "cells": [
  {
   "cell_type": "markdown",
   "metadata": {},
   "source": [
    "# Building Your First GUI Application With Tkinter\n"
   ]
  },
  {
   "cell_type": "markdown",
   "metadata": {},
   "source": [
    "## Creating a window"
   ]
  },
  {
   "cell_type": "markdown",
   "metadata": {},
   "source": [
    "The foundational element of a Tkinter GUI is the **window**. Windows are the containers in which all other GUI elements live. These other GUI elements, such as text boxes, labels, and buttons, are known as **widgets**. Widgets are contained inside of windows."
   ]
  },
  {
   "cell_type": "code",
   "execution_count": 1,
   "metadata": {},
   "outputs": [],
   "source": [
    "import tkinter as tk\n",
    "\n",
    "window = tk.Tk()"
   ]
  },
  {
   "cell_type": "markdown",
   "metadata": {},
   "source": [
    "We created a window, but after running this code nothing happens. In order to see the window we need to run the **mainloop()** method on our window object. This method tells Python to run the Tkinter event loop and listens for events, such as button clicks or keypresses."
   ]
  },
  {
   "cell_type": "code",
   "execution_count": 9,
   "metadata": {},
   "outputs": [],
   "source": [
    "import tkinter as tk\n",
    "\n",
    "window = tk.Tk()\n",
    "\n",
    "window.mainloop()"
   ]
  },
  {
   "cell_type": "markdown",
   "metadata": {},
   "source": [
    "## Creating a widget"
   ]
  },
  {
   "cell_type": "markdown",
   "metadata": {},
   "source": [
    "Now that we have an empty window, we can put something inside. Objects inside a window are called widgets and now we are going to create a **label**."
   ]
  },
  {
   "cell_type": "code",
   "execution_count": 10,
   "metadata": {},
   "outputs": [],
   "source": [
    "import tkinter as tk\n",
    "\n",
    "window = tk.Tk()\n",
    "\n",
    "label = tk.Label(text = \"Hello, Tkinter\")\n",
    "label.pack()\n",
    "\n",
    "window.mainloop()"
   ]
  },
  {
   "cell_type": "markdown",
   "metadata": {},
   "source": [
    "We created a label using the Tkinter Label class. But after running this code without the **pack()** method the window wouldn't change. That's because after creating a widged, we need to insert it into our choosen window. **The window is going to get as big as the size of the given argument because we didn't specify the size of the window, and the pack() method resizes the window by deafult to suit the widget**.\n",
    "\n",
    "There are a few widget classes that are most common:\n",
    "* Label\n",
    "* Button\n",
    "* Entry\n",
    "* Text\n",
    "* Frame"
   ]
  },
  {
   "cell_type": "markdown",
   "metadata": {},
   "source": [
    "## Labels\n",
    "Labels are used to display text or images. We can change the colors of both text **background** (use alias \"bg\") and **foreground** (use alias \"fg\"). We can also specify the width and height of a label which is measured in respectively the width of character **'0'** and hight of character **'0'**. \n",
    "\n",
    "*Keep that in mind, besause seting the measurments to 10x10 istn't going to create a square label, because the height of character '0' is bigger than it's width. Measuring units by the width of a character means that the size of a widget is relative to the default font on a user’s machine. This ensures the text fits properly in labels and buttons, no matter where the application is running.*"
   ]
  },
  {
   "cell_type": "code",
   "execution_count": 13,
   "metadata": {},
   "outputs": [],
   "source": [
    "import tkinter as tk\n",
    "\n",
    "window = tk.Tk()\n",
    "\n",
    "label = tk.Label(\n",
    "    text = \"Hello, Tkinter\",\n",
    "    bg = 'blue',\n",
    "    fg = 'white',\n",
    "    width = 10,\n",
    "    height = 5\n",
    ")\n",
    "\n",
    "label.pack()\n",
    "\n",
    "window.mainloop()"
   ]
  },
  {
   "cell_type": "markdown",
   "metadata": {},
   "source": [
    "## Buttons\n",
    "Adding a button is very similar to adding a label. All the keyword arguments are inserted in the same way but, we can assign a function to be called whenever it is pressed - but we'll do that later."
   ]
  },
  {
   "cell_type": "code",
   "execution_count": 14,
   "metadata": {},
   "outputs": [],
   "source": [
    "import tkinter as tk\n",
    "\n",
    "window = tk.Tk()\n",
    "\n",
    "button = tk.Button(\n",
    "    text=\"Click me!\",\n",
    "    width=25,\n",
    "    height=5,\n",
    "    bg=\"blue\",\n",
    "    fg=\"yellow\",\n",
    ")\n",
    "\n",
    "button.pack()\n",
    "\n",
    "window.mainloop()"
   ]
  },
  {
   "cell_type": "markdown",
   "metadata": {},
   "source": [
    "## Entries\n",
    "An entry takes a one line of input and has three basic methods:\n",
    "* get() - returns what the entry contains \n",
    "* delete() - deletes a character at a given index in the entry\n",
    "* insert() - inserts a character at a given index in the entry\n"
   ]
  },
  {
   "cell_type": "code",
   "execution_count": 21,
   "metadata": {},
   "outputs": [],
   "source": [
    "import tkinter as tk\n",
    "\n",
    "window = tk.Tk()\n",
    "\n",
    "label = tk.Label(text = \"Name\")\n",
    "entry = tk.Entry()\n",
    "\n",
    "label.pack()\n",
    "entry.pack()\n",
    "\n",
    "\n",
    "window.mainloop()"
   ]
  },
  {
   "cell_type": "markdown",
   "metadata": {},
   "source": [
    "## Text widgets\n",
    "Text widgets take multiple lines of user input and have the same methods as the entry widget although there are some diffrences.\n",
    "\n",
    "***Just like Entry widgets, you can retrieve the text from a Text widget using .get(). However, calling .get() with no arguments doesn’t return the full text in the text box like it does for Entry widgets. It raises an exception.***\n",
    "*TypeError: get() missing 1 required positional argument: 'index1'*\n",
    "\n",
    "ext.get() required at least one argument. Calling .get() with a single index returns a single character. To retrieve several characters, you need to pass a start index and an end index. Indices in Text widgets work differently than Entry widgets. Since Text widgets can have several lines of text, an index must contain two pieces of information:\n",
    "\n",
    "The line number of a character\n",
    "The position of a character on that line\n",
    "Line numbers start with 1, and character positions start with 0. To make an index, you create a string of the form \"<line>.<char>\", replacing <line> with the line number and <char> with the character number. For example, \"1.0\" represents the first character on the first line, and \"2.3\" represents the fourth character on the second line.\n",
    "    \n",
    "To get all of the text in a text box, set the starting index in \"1.0\" and use the special tk.END constant for the second index:\n",
    "    \n",
    "    text_box.get(\"1.0\", tk.END)\n",
    "        'Hello\\nWorld\\n' \n",
    "    \n",
    "***Same applies to delete() method***\n",
    "    To clear out the whole window try:\n",
    "    \n",
    "    text_box.delete(\"1.0\", tk.END)\n",
    "    \n",
    "***And Insert() method***\n",
    "    \n",
    "    text_box.insert(\"1.0\", \"Hello\")\n",
    "    \n",
    "    If you want to insert text onto a new line, then you need to insert a newline character manually into the string being inserted:\n",
    "    \n",
    "    text_box.insert(\"2.0\", \"\\nWorld\")\n",
    "    "
   ]
  },
  {
   "cell_type": "code",
   "execution_count": 26,
   "metadata": {},
   "outputs": [],
   "source": [
    "import tkinter as tk\n",
    "\n",
    "window = tk.Tk()\n",
    "\n",
    "text_box = tk.Text()\n",
    "text_box.pack()\n",
    "text_box.insert(\"1.0\", \"Hello\")\n",
    "text_box.insert(\"2.0\", \"\\nWorld\")\n",
    "\n",
    "\n",
    "window.mainloop()"
   ]
  },
  {
   "cell_type": "markdown",
   "metadata": {},
   "source": [
    "# Frames\n",
    "Frame widgets are important for organizing the layout of your widgets in an application. We can assign a widget to a frame using the **\"master\"** argument"
   ]
  },
  {
   "cell_type": "code",
   "execution_count": 36,
   "metadata": {},
   "outputs": [],
   "source": [
    "import tkinter as tk\n",
    "\n",
    "window = tk.Tk()\n",
    "frame_a = tk.Frame()\n",
    "frame_b = tk.Frame()\n",
    "label_a = tk.Label(text = \"I'm inside frame a\", master = frame_a)\n",
    "label_b = tk.Label(text = \"I'm inside frame b\", master = frame_b)\n",
    "\n",
    "label_a.pack()\n",
    "label_b.pack()\n",
    "frame_a.pack()\n",
    "frame_b.pack()\n",
    "\n",
    "window.mainloop()"
   ]
  },
  {
   "cell_type": "markdown",
   "metadata": {},
   "source": [
    "Frame widgets can be configured with a relief attribute that creates a border around the frame. You can set relief to be any of the following values:\n",
    "\n",
    "* tk.FLAT: Has no border effect (the default value).\n",
    "* tk.SUNKEN: Creates a sunken effect.\n",
    "* tk.RAISED: Creates a raised effect.\n",
    "* tk.GROOVE: Creates a grooved border effect.\n",
    "* tk.RIDGE: Creates a ridged effect.\n",
    "\n",
    "**To apply the border effect, you must set the borderwidth attribute to a value greater than 1.**"
   ]
  },
  {
   "cell_type": "code",
   "execution_count": 35,
   "metadata": {},
   "outputs": [],
   "source": [
    "import tkinter as tk\n",
    "\n",
    "border_effects = {\n",
    "    \"flat\": tk.FLAT,\n",
    "    \"sunken\": tk.SUNKEN,\n",
    "    \"raised\": tk.RAISED,\n",
    "    \"groove\": tk.GROOVE,\n",
    "    \"ridge\": tk.RIDGE,\n",
    "}\n",
    "\n",
    "window = tk.Tk()\n",
    "\n",
    "for relief_name, relief in border_effects.items():\n",
    "    frame = tk.Frame(master=window, relief=relief, borderwidth=10)\n",
    "    frame.pack(side=tk.LEFT)\n",
    "    label = tk.Label(master=frame, text=relief_name)\n",
    "    label.pack()\n",
    "\n",
    "    \n",
    "window.mainloop()"
   ]
  },
  {
   "cell_type": "code",
   "execution_count": 41,
   "metadata": {},
   "outputs": [],
   "source": [
    "import tkinter as tk\n",
    "\n",
    "window = tk.Tk()\n",
    "ent = tk.Entry(width = 40, bg = \"white\", fg = \"black\")\n",
    "ent.insert(0, \"What is your name?\")\n",
    "ent.pack()\n",
    "\n",
    "window.mainloop()"
   ]
  },
  {
   "cell_type": "markdown",
   "metadata": {},
   "source": [
    "## pack() geometry manager\n",
    ".pack() uses a packing algorithm to place widgets in a Frame or window in a specified order. For a given widget, the packing algorithm has two primary steps:\n",
    "\n",
    "1. Compute a rectangular area called a parcel that’s just tall (or wide) enough to hold the widget and fills the remaining width (or height) in the window with blank space.\n",
    "2. Center the widget in the parcel unless a different location is specified.\n",
    "\n",
    "**.pack()** accepts some keyword arguments for more precisely configuring widget placement. For example, you can set the fill keyword argument to specify in which direction the frames should fill. The options are **tk.X** to fill in the horizontal direction, **tk.Y** to fill vertically, and **tk.BOTH** to fill in both directions.\n",
    "\n"
   ]
  },
  {
   "cell_type": "code",
   "execution_count": null,
   "metadata": {},
   "outputs": [],
   "source": [
    "import tkinter as tk\n",
    "\n",
    "window = tk.Tk()\n",
    "\n",
    "frame1 = tk.Frame(master=window, height=100, bg=\"red\")\n",
    "frame1.pack(fill=tk.X)\n",
    "\n",
    "frame2 = tk.Frame(master=window, height=50, bg=\"yellow\")\n",
    "frame2.pack(fill=tk.X)\n",
    "\n",
    "frame3 = tk.Frame(master=window, height=25, bg=\"blue\")\n",
    "frame3.pack(fill=tk.X)\n",
    "\n",
    "window.mainloop()"
   ]
  },
  {
   "cell_type": "markdown",
   "metadata": {},
   "source": [
    "The side keyword argument of .pack() specifies on which side of the window the widget should be placed. These are the available options:\n",
    "1. tk.TOP - default \n",
    "2. tk.BOTTOM\n",
    "3. tk.LEFT\n",
    "4. tk.RIGH\n",
    "\n",
    "**This time, you have to specify the height keyword argument on at least one of the frames to force the window to have some height.**"
   ]
  },
  {
   "cell_type": "code",
   "execution_count": 50,
   "metadata": {},
   "outputs": [],
   "source": [
    "import tkinter as tk\n",
    "\n",
    "window = tk.Tk()\n",
    "\n",
    "frame1 = tk.Frame(master=window, width=200, height=100, bg=\"red\")\n",
    "frame1.pack(fill=tk.Y, side=tk.LEFT)\n",
    "\n",
    "frame2 = tk.Frame(master=window, width=100, bg=\"yellow\")\n",
    "frame2.pack(fill=tk.Y, side=tk.LEFT)\n",
    "\n",
    "frame3 = tk.Frame(master=window, width=50, bg=\"blue\")\n",
    "frame3.pack(fill=tk.Y, side=tk.LEFT)\n",
    "\n",
    "window.mainloop()"
   ]
  },
  {
   "cell_type": "markdown",
   "metadata": {},
   "source": [
    "To make the layout truly responsive, you can set an initial size for your frames using the width and height attributes. Then, set the fill keyword argument of **.pack()** to **tk.BOTH** and set the **expand** keyword argument to **True**:"
   ]
  },
  {
   "cell_type": "code",
   "execution_count": 102,
   "metadata": {},
   "outputs": [],
   "source": [
    "import tkinter as tk\n",
    "\n",
    "window = tk.Tk()\n",
    "\n",
    "frame1 = tk.Frame(master=window, width=200, height=100, bg=\"red\")\n",
    "frame1.pack(fill=tk.BOTH, side=tk.LEFT, expand=True)\n",
    "\n",
    "frame2 = tk.Frame(master=window, width=100, bg=\"yellow\")\n",
    "frame2.pack(fill=tk.BOTH, side=tk.LEFT, expand=True)\n",
    "\n",
    "frame3 = tk.Frame(master=window, width=50, bg=\"blue\")\n",
    "frame3.pack(fill=tk.BOTH, side=tk.LEFT, expand=True)\n",
    "\n",
    "window.mainloop()"
   ]
  },
  {
   "cell_type": "markdown",
   "metadata": {},
   "source": [
    "## .grid() geometry manager\n",
    "\n",
    "The geometry manager you’ll likely use most often is .grid(), which provides all the power of .pack() in a format that’s easier to understand and maintain.\n",
    "\n",
    ".grid() works by splitting a window or Frame into rows and columns. You specify the location of a widget by calling .grid() and passing the row and column indices to the row and column keyword arguments, respectively. Both row and column indices start at 0, so a row index of 1 and a column index of 2 tells .grid() to place a widget in the third column of the second row.\n"
   ]
  },
  {
   "cell_type": "code",
   "execution_count": 95,
   "metadata": {},
   "outputs": [],
   "source": [
    "import tkinter as tk\n",
    "\n",
    "window = tk.Tk()\n",
    "\n",
    "for i in range(3):\n",
    "    for j in range(3):\n",
    "        frame = tk.Frame(\n",
    "            master=window,\n",
    "            relief=tk.RAISED,\n",
    "            borderwidth=1\n",
    "        )\n",
    "        frame.grid(row=i, column=j)\n",
    "        label = tk.Label(master=frame, text=f\"Row {i}\\nColumn {j}\")\n",
    "        label.pack()\n",
    "\n",
    "window.mainloop()"
   ]
  },
  {
   "cell_type": "markdown",
   "metadata": {},
   "source": [
    "Two geometry managers are being used in this example. Each Frame is attached to the window with the .grid() geometry manager and each label is attached to its master Frame with .pack().\n",
    "\n",
    "The frames in the previous example are placed tightly next to one another. To add some space around each Frame, you can set the padding of each cell in the grid. **Padding** is just some blank space that surrounds a widget and separates it visually from its contents.\n",
    "\n",
    "The two types of padding are **external** and **internal padding**. External padding adds some space around the outside of a grid cell. It’s controlled with two keyword arguments to .grid():\n",
    "\n",
    "1. padx - adds padding in the horizontal direction.\n",
    "2. pady  - adds padding in the vertical direction.\n",
    "\n",
    "**Note: Both padx and pady are measured in pixels**\n"
   ]
  },
  {
   "cell_type": "code",
   "execution_count": 105,
   "metadata": {},
   "outputs": [],
   "source": [
    "import tkinter as tk\n",
    "\n",
    "window = tk.Tk()\n",
    "for i in range(3):\n",
    "    window.columnconfigure(i, weight=1)\n",
    "    window.rowconfigure(i, weight=1)\n",
    "\n",
    "for i in range(3):\n",
    "    for j in range(3):\n",
    "        frame = tk.Frame(\n",
    "            master=window,\n",
    "            relief=tk.RAISED,\n",
    "            borderwidth=1\n",
    "        )\n",
    "        frame.grid(row=i, column=j, padx = 5, pady = 5)\n",
    "        label = tk.Label(master=frame, text=f\"Row {i}\\nColumn {j}\")\n",
    "        label.pack(padx = 5, pady = 5)\n",
    "\n",
    "window.mainloop()"
   ]
  },
  {
   "cell_type": "markdown",
   "metadata": {},
   "source": [
    "**Note:** .pack() also has padx and pady parameters. The following code is nearly identical to the previous code, except that you add 5 pixels of additional padding around each Label in both the x and y directions - The extra padding around the Label widgets gives each cell in the grid a little bit of breathing room between the Frame border and the text in the Label\n",
    "\n",
    "We can specify the default grid of a frame/window using **columnconfigure()** and **rowconfigure() methods**. This also enables resizing, when the window is expanded/contracted by the user. \n",
    "\n",
    "Both .columnconfigure() and .rowconfigure() take three essential arguments:\n",
    "\n",
    "    1. The  index of the grid column or row that you want to configure (or a list of indices to configure multiple rows or              columns at the same time)\n",
    "    2. A keyword argument called weight that determines how the column or row should respond to window resizing, relative to the other columns and rows\n",
    "    3. A keyword argument called minsize that sets the minimum size of the row height or column width in pixels\n",
    "    \n",
    "Weight is set to 0 by default, which means that the column or row doesn’t expand as the window resizes. If every column and row is given a weight of 1, then they all grow at the same rate. If one column has a weight of 1 and another a weight of 2, then the second column expands at twice the rate of the first."
   ]
  },
  {
   "cell_type": "code",
   "execution_count": 107,
   "metadata": {},
   "outputs": [],
   "source": [
    "import tkinter as tk\n",
    "\n",
    "window = tk.Tk()\n",
    "\n",
    "for i in range(3):\n",
    "    window.columnconfigure(i, weight=1, minsize=75)\n",
    "    window.rowconfigure(i, weight=1, minsize=50)\n",
    "\n",
    "    for j in range(0, 3):\n",
    "        frame = tk.Frame(\n",
    "            master=window,\n",
    "            relief=tk.RAISED,\n",
    "            borderwidth=1\n",
    "        )\n",
    "        frame.grid(row=i, column=j, padx=5, pady=5)\n",
    "\n",
    "        label = tk.Label(master=frame, text=f\"Row {i}\\nColumn {j}\")\n",
    "        label.pack(padx=5, pady=5)\n",
    "\n",
    "window.mainloop()"
   ]
  },
  {
   "cell_type": "markdown",
   "metadata": {},
   "source": [
    "Here is an another example, but this time we are going to explore the **\"sticky\"** parameter in the .grid() method:\n",
    "\n",
    "You can change the location of each label inside of the grid cell using the sticky parameter. sticky accepts a string containing one or more of the following letters:\n",
    "\n",
    "* \"n\" or \"N\" to align to the top-center part of the cell\n",
    "* \"e\" or \"E\" to align to the right-center side of the cell\n",
    "* \"s\" or \"S\" to align to the bottom-center part of the cell\n",
    "* \"w\" or \"W\" to align to the left-center side of the cell\n",
    "\n",
    "The letters \"n\", \"s\", \"e\", and \"w\" come from the cardinal directions north, south, east, and west. You can also combine as follows:"
   ]
  },
  {
   "cell_type": "code",
   "execution_count": 123,
   "metadata": {},
   "outputs": [],
   "source": [
    "import tkinter as tk\n",
    "\n",
    "window = tk.Tk()\n",
    "window.columnconfigure(0, minsize=250)\n",
    "window.rowconfigure([0, 1], minsize=100)\n",
    "\n",
    "label1 = tk.Label(text=\"A\")\n",
    "label1.grid(row=0, column=0, sticky=\"nw\")\n",
    "\n",
    "label2 = tk.Label(text=\"B\")\n",
    "label2.grid(row=1, column=0, sticky=\"se\")\n",
    "\n",
    "window.mainloop()"
   ]
  },
  {
   "cell_type": "markdown",
   "metadata": {},
   "source": [
    "When a widget is positioned with sticky, the size of the widget itself is just big enough to contain any text and other contents inside of it. It won’t fill the entire grid cell. In order to fill the grid, you can specify \"ns\" to force the widget to fill the cell in the vertical direction, or \"ew\" to fill the cell in the horizontal direction. To fill the entire cell, set sticky to \"nsew\". The following example illustrates each of these options:"
   ]
  },
  {
   "cell_type": "code",
   "execution_count": 124,
   "metadata": {},
   "outputs": [],
   "source": [
    "import tkinter as tk\n",
    "\n",
    "window = tk.Tk()\n",
    "\n",
    "window.rowconfigure(0, minsize=50)\n",
    "window.columnconfigure([0, 1, 2, 3], minsize=50)\n",
    "\n",
    "label1 = tk.Label(text=\"1\", bg=\"black\", fg=\"white\")\n",
    "label2 = tk.Label(text=\"2\", bg=\"black\", fg=\"white\")\n",
    "label3 = tk.Label(text=\"3\", bg=\"black\", fg=\"white\")\n",
    "label4 = tk.Label(text=\"4\", bg=\"black\", fg=\"white\")\n",
    "\n",
    "label1.grid(row=0, column=0)\n",
    "label2.grid(row=0, column=1, sticky=\"ew\")\n",
    "label3.grid(row=0, column=2, sticky=\"ns\")\n",
    "label4.grid(row=0, column=3, sticky=\"nsew\")\n",
    "\n",
    "window.mainloop()"
   ]
  },
  {
   "cell_type": "markdown",
   "metadata": {},
   "source": [
    "What the above example illustrates is that the .grid() geometry manager’s sticky parameter can be used to achieve the same effects as the .pack() geometry manager’s fill parameter. The correspondence between the sticky and fill parameters is summarized in the following table"
   ]
  },
  {
   "cell_type": "code",
   "execution_count": 91,
   "metadata": {},
   "outputs": [],
   "source": [
    "# exercise\n",
    "import tkinter as tk\n",
    "\n",
    "window = tk.Tk()\n",
    "window.title(\"Address Entry Form\")\n",
    "\n",
    "frm_form = tk.Frame(master = window, borderwidth = 3, relief = tk.SUNKEN)\n",
    "frm_form.pack(fill = tk.BOTH, expand = True)\n",
    "\n",
    "labels = [\n",
    "    \"First Name:\",\n",
    "    \"Last Name:\",\n",
    "    \"Address Line 1:\",\n",
    "    \"Address Line 2:\",\n",
    "    \"City:\",\n",
    "    \"State/Province:\",\n",
    "    \"Postal Code:\",\n",
    "    \"Country:\",\n",
    "]\n",
    "\n",
    "for id_x, text in enumerate(labels):\n",
    "    label = tk.Label(master = frm_form, text = text)\n",
    "    entry = tk.Entry(master = frm_form, width = 50)\n",
    "    \n",
    "    label.grid(row=id_x, column = 0, sticky = \"e\")\n",
    "    entry.grid(row=id_x, column = 1)\n",
    "\n",
    "    \n",
    "frm_buttons = tk.Frame(master = window)\n",
    "frm_buttons.pack(fill = tk.BOTH, ipadx = 5, ipady = 5, expand = True)\n",
    "\n",
    "submit_btn = tk.Button(master = frm_buttons, text = \"Submit\")\n",
    "clear_btn = tk.Button(master = frm_buttons, text = \"Clear\")\n",
    "submit_btn.pack(side = tk.RIGHT, padx = 10, ipadx = 10)\n",
    "clear_btn.pack(side = tk.RIGHT, padx = 10, ipadx = 10)\n",
    "\n",
    "\n",
    "window.mainloop()"
   ]
  },
  {
   "cell_type": "markdown",
   "metadata": {},
   "source": [
    "## bind() method\n",
    "To call an event handler whenever an event occurs on a widget, use .bind(). The event handler is said to be bound to the event because it’s called every time the event occurs. \n",
    "\n",
    "Here, the handle_keypress() event handler is bound to a \"< Key >\" event using window.bind(). Whenever a key is pressed while the application is running, your program will print the character of the key pressed.\n",
    "    \n",
    "   **Note: The output of the above program is not printed in the Tkinter application window. It is printed to stdout.**\n",
    "    \n",
    "\n",
    ".bind() always takes at least two arguments:\n",
    "\n",
    "1. An event that’s represented by a string of the form \"< event_name >\", where event_name can be any of Tkinter’s events\n",
    "2. An event handler that’s the name of the function to be called whenever the event occurs"
   ]
  },
  {
   "cell_type": "code",
   "execution_count": 89,
   "metadata": {},
   "outputs": [
    {
     "name": "stdout",
     "output_type": "stream",
     "text": [
      "s\n",
      "d\n",
      "a\n",
      "a\n",
      "s\n",
      "d\n",
      "a\n"
     ]
    }
   ],
   "source": [
    "import tkinter as tk\n",
    "\n",
    "window = tk.Tk()\n",
    "\n",
    "def handle_keypress(event):\n",
    "    \"\"\"Print the character associated to the key pressed\"\"\"\n",
    "    print(event.char)\n",
    "\n",
    "# Bind keypress event to handle_keypress()\n",
    "window.bind(\"<Key>\", handle_keypress)\n",
    "\n",
    "window.mainloop()"
   ]
  },
  {
   "cell_type": "code",
   "execution_count": 92,
   "metadata": {},
   "outputs": [],
   "source": [
    "import tkinter as tk\n",
    "\n",
    "window = tk.Tk()\n",
    "\n",
    "\n",
    "def handle_click(event):\n",
    "    print(\"The button was clicked!\")\n",
    "\n",
    "\n",
    "button = tk.Button(text=\"Click me!\")\n",
    "button.pack()\n",
    "\n",
    "\n",
    "button.bind(\"<Button-1>\", handle_click)\n",
    "window.mainloop()\n"
   ]
  },
  {
   "cell_type": "markdown",
   "metadata": {},
   "source": [
    "In this example, the \"< Button-1 >\" event on the button widget is bound to the handle_click event handler. The \"< Button-1 >\" event occurs whenever the left mouse button is pressed while the mouse is over the widget. There are other events for mouse button clicks, including \"< Button-2 >\" for the middle mouse button and \"< Button-3 >\" for the right mouse button."
   ]
  },
  {
   "cell_type": "markdown",
   "metadata": {},
   "source": [
    "## Using command to assign actions to buttons\n",
    "Every Button widget has a command attribute that you can assign to a function. Whenever the button is pressed, the function is executed.\n",
    "\n",
    "Create a window with a Label widget that holds a numerical value. You’ll put buttons on the left and right side of the label. The left button will be used to decrease the value in the Label, and the right one will increase the value."
   ]
  },
  {
   "cell_type": "code",
   "execution_count": 138,
   "metadata": {},
   "outputs": [],
   "source": [
    "import tkinter as tk\n",
    "\n",
    "window = tk.Tk()\n",
    "window.rowconfigure(0, minsize = 50, weight = 1)\n",
    "window.columnconfigure([0, 1, 2], minsize = 50, weight = 1)\n",
    "\n",
    "btn_decrease = tk.Button(master=window, text=\"-\")\n",
    "btn_decrease.grid(row=0, column=0, sticky=\"nsew\")\n",
    "\n",
    "lbl_value = tk.Label(text = \"0\", bg = \"red\")\n",
    "lbl_value.grid(row = 0, column = 1, sticky = \"nswe\")\n",
    "\n",
    "btn_increase = tk.Button(master=window, text=\"+\")\n",
    "btn_increase.grid(row=0, column=2, sticky=\"nsew\")\n",
    "\n",
    "window.mainloop()"
   ]
  },
  {
   "cell_type": "markdown",
   "metadata": {},
   "source": [
    "Label widgets don’t have .get() like Entry and Text widgets do. However, you can retrieve the text from the label by accessing the text attribute with a dictionary-style subscript notation:"
   ]
  },
  {
   "cell_type": "code",
   "execution_count": null,
   "metadata": {},
   "outputs": [],
   "source": [
    "label = Tk.Label(text=\"Hello\")\n",
    "\n",
    "# Retrieve a Label's text\n",
    "text = label[\"text\"]\n",
    "\n",
    "# Set new text for the label\n",
    "label[\"text\"] = \"Good bye\""
   ]
  },
  {
   "cell_type": "markdown",
   "metadata": {},
   "source": [
    "Now that we know how to get the text value in a label, we can write our functions:"
   ]
  },
  {
   "cell_type": "code",
   "execution_count": 141,
   "metadata": {},
   "outputs": [],
   "source": [
    "def increase():\n",
    "    value = int(lbl_value[\"text\"])\n",
    "    lbl_value[\"text\"] = f\"{value+1}\"\n",
    "    \n",
    "def decrease():\n",
    "    value = int(lbl_value[\"text\"])\n",
    "    lbl_value[\"text\"] = f\"{value-1}\""
   ]
  },
  {
   "cell_type": "code",
   "execution_count": 213,
   "metadata": {},
   "outputs": [],
   "source": [
    "import tkinter as tk\n",
    "\n",
    "def increase():\n",
    "    value = int(lbl_value[\"text\"])\n",
    "    lbl_value[\"text\"] = f\"{value+1}\"\n",
    "    \n",
    "def decrease():\n",
    "    value = int(lbl_value[\"text\"])\n",
    "    lbl_value[\"text\"] = f\"{value-1}\"\n",
    "\n",
    "window = tk.Tk()\n",
    "window.rowconfigure(0, minsize = 50, weight = 1)\n",
    "window.columnconfigure([0, 1, 2], minsize = 50, weight = 1)\n",
    "\n",
    "btn_decrease = tk.Button(master=window, text=\"-\", command = decrease)\n",
    "btn_decrease.grid(row=0, column=0, sticky=\"nsew\")\n",
    "\n",
    "lbl_value = tk.Label(text = \"0\", bg = \"red\")\n",
    "lbl_value.grid(row = 0, column = 1, sticky = \"nswe\")\n",
    "\n",
    "btn_increase = tk.Button(master=window, text=\"+\", command = increase)\n",
    "btn_increase.grid(row=0, column=2, sticky=\"nsew\")\n",
    "\n",
    "window.mainloop()"
   ]
  },
  {
   "cell_type": "markdown",
   "metadata": {},
   "source": [
    "# TEST EXAMPLES\n",
    "\n",
    "## roll a dice"
   ]
  },
  {
   "cell_type": "code",
   "execution_count": 214,
   "metadata": {},
   "outputs": [],
   "source": [
    "#example\n",
    "import tkinter as tk\n",
    "import random\n",
    "\n",
    "def roll():\n",
    "    lbl_value[\"text\"] = str(random.randint(1,6))\n",
    "\n",
    "window = tk.Tk()\n",
    "window.rowconfigure([0, 1], minsize = 75, weight = 1)\n",
    "window.columnconfigure(0, minsize = 50, weight = 1)\n",
    "\n",
    "btn_decrease = tk.Button(master=window, text=\"Roll\", command = roll)\n",
    "btn_decrease.grid(row=0, column=0, sticky=\"nsew\")\n",
    "\n",
    "lbl_value = tk.Label(text = \"\")\n",
    "lbl_value.grid(row = 1, column = 0, sticky = \"nswe\")\n",
    "\n",
    "window.mainloop()"
   ]
  },
  {
   "cell_type": "markdown",
   "metadata": {},
   "source": [
    "## Fahrenheit to Celsius converter"
   ]
  },
  {
   "cell_type": "code",
   "execution_count": 212,
   "metadata": {},
   "outputs": [],
   "source": [
    "import tkinter as tk\n",
    "\n",
    "def farenheitToCelsius():\n",
    "    if ent_farenheit.get() == \"\":\n",
    "        lbl_celsius[\"text\"] = \"\"\n",
    "        return \n",
    "    \n",
    "    farenheit = ent_farenheit.get()\n",
    "    celsius = (5/9) * (float(farenheit) - 32)\n",
    "    lbl_celsius[\"text\"] = f\"{round(celsius, 2)} \\N{DEGREE CELSIUS}\"\n",
    "\n",
    "    \n",
    "window = tk.Tk()\n",
    "window.title(\"Farenheit to Celsius\")\n",
    "window.resizable(width=False, height=False)\n",
    "\n",
    "frm_entry = tk.Frame(master = window)\n",
    "ent_farenheit = tk.Entry(master = frm_entry, width = 10)\n",
    "degrees = tk.Label(master = frm_entry, text = \"\\N{DEGREE FAHRENHEIT}\")\n",
    "\n",
    "ent_farenheit.grid(row = 0, column = 0, sticky = \"e\")\n",
    "degrees.grid(row = 0, column = 1, sticky = \"w\")\n",
    "\n",
    "btn_convert = tk.Button(text = \"\\N{RIGHTWARDS BLACK ARROW}\", command = farenheitToCelsius)\n",
    "lbl_celsius = tk.Label(text=\"\\N{DEGREE CELSIUS}\")\n",
    "\n",
    "\n",
    "frm_entry.grid(row = 0, column = 0, padx=10)\n",
    "btn_convert.grid(row = 0, column = 1, pady=10)\n",
    "lbl_celsius.grid(row = 0, column = 2, pady=10)\n",
    "\n",
    "\n",
    "window.mainloop()"
   ]
  },
  {
   "cell_type": "markdown",
   "metadata": {},
   "source": [
    "## Text Editor"
   ]
  },
  {
   "cell_type": "code",
   "execution_count": 29,
   "metadata": {},
   "outputs": [],
   "source": [
    "import tkinter as tk\n",
    "from tkinter.filedialog import askopenfilename, asksaveasfilename\n",
    "\n",
    "def open_file():\n",
    "    \"\"\"Open a file for editing.\"\"\"\n",
    "    global filepath\n",
    "    filepath = askopenfilename(\n",
    "        filetypes=[(\"Text Files\", \"*.txt\")]\n",
    "    )\n",
    "    if not filepath:\n",
    "        return\n",
    "    txt_edit.delete(\"1.0\", tk.END)\n",
    "    with open(filepath, \"r\") as input_file:\n",
    "        text = input_file.read()\n",
    "        txt_edit.insert(\"1.0\", text)\n",
    "    window.title(f\"Simple Text Editor - {filepath}\")\n",
    "\n",
    "def save_file_as():\n",
    "    \"\"\"Save the current file as a new file.\"\"\"\n",
    "    new_filepath = asksaveasfilename(\n",
    "        defaultextension=\"txt\",\n",
    "        filetypes=[(\"Text Files\", \"*.txt\"), (\"All Files\", \"*.*\")],\n",
    "    )\n",
    "    if not new_filepath:\n",
    "        return\n",
    "    with open(new_filepath, \"w\") as output_file:\n",
    "        text = txt_edit.get(\"1.0\", tk.END)\n",
    "        output_file.write(text)\n",
    "    window.title(f\"Simple Text Editor - {new_filepath}\")\n",
    "    \n",
    "def save_file():\n",
    "    if filepath:\n",
    "        with open(filepath, \"w\") as output_file:\n",
    "            text = txt_edit.get(\"1.0\", tk.END) \n",
    "            output_file.write(text)\n",
    "        window.title(f\"Simple Text Editor - {filepath}\")\n",
    "    \n",
    "    \n",
    "window = tk.Tk()\n",
    "window.title(\"Simple Text Editor\")\n",
    "\n",
    "window.rowconfigure(0, minsize=800, weight=1)\n",
    "window.columnconfigure([1,2], minsize=400, weight=1)\n",
    "\n",
    "txt_edit = tk.Text(window)\n",
    "fr_buttons = tk.Frame(window, relief = tk.SUNKEN, borderwidth = 2)\n",
    "btn_open = tk.Button(fr_buttons, text=\"Open\", command = open_file)\n",
    "btn_save_as = tk.Button(fr_buttons, text=\"Save As...\", command = save_file_as)\n",
    "btn_save = tk.Button(fr_buttons, text=\"Save\", command = save_file)\n",
    "\n",
    "btn_open.grid(row=0, column=0, sticky=\"ew\", padx=5, pady=5)\n",
    "btn_save.grid(row=1, column=0, sticky=\"ew\", padx=5)\n",
    "btn_save_as.grid(row=2, column=0, sticky=\"ew\", padx=5, pady=5)\n",
    "fr_buttons.grid(row=0, column=0, sticky=\"ns\")\n",
    "txt_edit.grid(row=0, column=1, sticky=\"nsew\")\n",
    "\n",
    "window.mainloop()"
   ]
  },
  {
   "cell_type": "code",
   "execution_count": null,
   "metadata": {},
   "outputs": [],
   "source": [
    " "
   ]
  }
 ],
 "metadata": {
  "kernelspec": {
   "display_name": "Python 3",
   "language": "python",
   "name": "python3"
  },
  "language_info": {
   "codemirror_mode": {
    "name": "ipython",
    "version": 3
   },
   "file_extension": ".py",
   "mimetype": "text/x-python",
   "name": "python",
   "nbconvert_exporter": "python",
   "pygments_lexer": "ipython3",
   "version": "3.7.6"
  }
 },
 "nbformat": 4,
 "nbformat_minor": 4
}
