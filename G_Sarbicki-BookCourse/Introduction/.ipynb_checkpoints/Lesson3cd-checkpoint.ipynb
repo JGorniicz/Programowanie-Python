{
 "cells": [
  {
   "cell_type": "markdown",
   "metadata": {},
   "source": [
    "# Programowanie funkcyjne"
   ]
  },
  {
   "cell_type": "code",
   "execution_count": 4,
   "metadata": {},
   "outputs": [
    {
     "name": "stdout",
     "output_type": "stream",
     "text": [
      "[4, 9, 16, 25, 36, 49, 64, 81, 100]\n"
     ]
    }
   ],
   "source": [
    "lista = [2, 3, 4, 5, 6, 7, 8, 9, 10]\n",
    "\n",
    "print(list(map(lambda x: x**2, lista))) \n",
    "\n"
   ]
  },
  {
   "cell_type": "markdown",
   "metadata": {},
   "source": [
    "Operację na liście polegającą na podniesieniu do kwadratu wszystkich jej elementów możęmy rozumieć jako **odwzorowanie listy poprzez funkcję**. Daną operację wykonuje wbudowana funkcja **map()**"
   ]
  },
  {
   "cell_type": "markdown",
   "metadata": {},
   "source": [
    "Jeżeli chcemy aby w liście pozostały tylko elementy spełniające pewien warunek logiczny, możemy urzyć funkcji **filter()**, której pierwszym argumentem jest funkcja o wartościach logicznych "
   ]
  },
  {
   "cell_type": "code",
   "execution_count": 5,
   "metadata": {},
   "outputs": [
    {
     "name": "stdout",
     "output_type": "stream",
     "text": [
      "[2, 4, 6, 8, 10]\n",
      "[3, 12, 9]\n"
     ]
    }
   ],
   "source": [
    "lista = [2, 3, 4, 5, 6, 7, 8, 9, 10]\n",
    "print(list(filter(lambda y: y % 2 == 0, lista)))\n",
    "\n",
    "print(list(map(lambda w: w*2 if w % 2 == 0 else w, list(filter(lambda z: z % 3 == 0, lista)))))"
   ]
  },
  {
   "cell_type": "markdown",
   "metadata": {},
   "source": [
    "**Obliczmy iloczyn skalarny dwóch wektorów o dwóch współrzędnych za pomocą powyższych funkcji**."
   ]
  },
  {
   "cell_type": "code",
   "execution_count": 16,
   "metadata": {
    "scrolled": true
   },
   "outputs": [
    {
     "name": "stdout",
     "output_type": "stream",
     "text": [
      "((1, -2), (2, 7))\n",
      "[-2, 14]\n"
     ]
    }
   ],
   "source": [
    "a = [1, 2]\n",
    "b = [-2, 7]\n",
    "\n",
    "g = zip(a,b) # zip creates a tuple of elements from lists given as arguments in a fasion that elements of the same\n",
    "# index in separate lists create a new tuple\n",
    "print(tuple(g))\n",
    "\n",
    "c = list(map(lambda x: x[0]*x[1], zip(a,b)))\n",
    "print(c)"
   ]
  },
  {
   "cell_type": "markdown",
   "metadata": {},
   "source": [
    "Do posortowania listy służy funkcja **sorted()**. Jej pierwszym argumentem jest **lista**, a jako drugi opcjonalny (jest ich więcej) możęmy podać argument **key** który stanowi **funkcję fortującą**. \n"
   ]
  },
  {
   "cell_type": "code",
   "execution_count": 20,
   "metadata": {},
   "outputs": [
    {
     "name": "stdout",
     "output_type": "stream",
     "text": [
      "[-1, 1, 6, 22, 78]\n"
     ]
    }
   ],
   "source": [
    "lista = [6, 1, 78, 22, -1]\n",
    "print(sorted(lista))"
   ]
  },
  {
   "cell_type": "code",
   "execution_count": 27,
   "metadata": {},
   "outputs": [
    {
     "name": "stdout",
     "output_type": "stream",
     "text": [
      "[78, 22, 6, 1, -1]\n"
     ]
    }
   ],
   "source": [
    "lista = [6, 1, 78, 22, -1]\n",
    "print(sorted(lista, key = lambda x: -x))"
   ]
  },
  {
   "cell_type": "code",
   "execution_count": 37,
   "metadata": {},
   "outputs": [
    {
     "name": "stdout",
     "output_type": "stream",
     "text": [
      "[(1, 4), (2, 3)]\n",
      "[(2, 3), (1, 4)]\n"
     ]
    }
   ],
   "source": [
    "# we can sort elements in lists based on all kinds of values\n",
    "lista = [(1, 4), (2, 3)]\n",
    "print(sorted(lista, key = lambda x: x[0]))\n",
    "print(sorted(lista, key = lambda x: x[1]))"
   ]
  },
  {
   "cell_type": "markdown",
   "metadata": {},
   "source": [
    "Funkcja **sorted()** zwraca nową listę. Możemy posortować również listy w miejscu (bezpośrednio zmieniając wartość zmiennej) za pomocą metody **.sort()**:"
   ]
  },
  {
   "cell_type": "code",
   "execution_count": 39,
   "metadata": {},
   "outputs": [
    {
     "name": "stdout",
     "output_type": "stream",
     "text": [
      "[-1, 1, 6, 22, 78]\n"
     ]
    }
   ],
   "source": [
    "lista = [6, 1, 78, 22, -1]\n",
    "lista.sort()\n",
    "print(lista)"
   ]
  },
  {
   "cell_type": "markdown",
   "metadata": {},
   "source": [
    "**EX.** posortuj listę niepustych stringów ze wzg. na długość, pierwszy element, ostatni element, i liczbę liter w łańcuchu."
   ]
  },
  {
   "cell_type": "code",
   "execution_count": 57,
   "metadata": {},
   "outputs": [
    {
     "name": "stdout",
     "output_type": "stream",
     "text": [
      "['ania', 'adam', 'xavier', 'al5a', 'ro1b12ert', '3dz4iu']\n"
     ]
    }
   ],
   "source": [
    "lista = [\"ania\", \"al5a\", \"ro1b12ert\", \"adam\", \"xavier\", \"3dz4iu\"]\n",
    "lista.sort(key = lambda x: len(x))\n",
    "lista.sort(key = lambda x: x[0])\n",
    "lista.sort(key = lambda x: x[-1])\n",
    "lista.sort(key = lambda x: not x.isalpha())\n",
    "print(lista)\n"
   ]
  }
 ],
 "metadata": {
  "kernelspec": {
   "display_name": "Python 3",
   "language": "python",
   "name": "python3"
  },
  "language_info": {
   "codemirror_mode": {
    "name": "ipython",
    "version": 3
   },
   "file_extension": ".py",
   "mimetype": "text/x-python",
   "name": "python",
   "nbconvert_exporter": "python",
   "pygments_lexer": "ipython3",
   "version": "3.7.6"
  }
 },
 "nbformat": 4,
 "nbformat_minor": 4
}
