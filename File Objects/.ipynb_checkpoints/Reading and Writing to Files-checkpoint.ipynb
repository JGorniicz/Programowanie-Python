{
 "cells": [
  {
   "cell_type": "markdown",
   "metadata": {},
   "source": [
    "# Reading And Writing To Files\n",
    "We open files using the **open()** function. Passing the **file name** or **path**, depending where it's located relative to the script and **mode** which tells what is meant to be done while working with that file. \n",
    "\n",
    "The available modes are:\n",
    "* 'r' open for reading (default)\n",
    "* 'w' open for writing, truncating the file first\n",
    "* 'x' open for exclusive creation, failing if the file already exists\n",
    "* 'a' open for writing, appending to the end of the file if it exists\n",
    "* 'b' binary mode\n",
    "* 't' text mode (default)\n",
    "* '+' open for updating (reading and writing)"
   ]
  },
  {
   "cell_type": "code",
   "execution_count": 2,
   "metadata": {},
   "outputs": [
    {
     "name": "stdout",
     "output_type": "stream",
     "text": [
      "text.txt\n",
      "r\n"
     ]
    }
   ],
   "source": [
    "f1 = open(file=\"text.txt\", mode=\"r\")\n",
    "print(f1.name)\n",
    "print(f1.mode)\n",
    "f1.close()"
   ]
  },
  {
   "cell_type": "markdown",
   "metadata": {},
   "source": [
    "When opening files this way it's crucial to explicitly close the file after running some operations on it, otherwise this can cause leaks that can result in running over the maximum number of file descriptors in our system that might cause errors in out programmes.\n",
    "\n",
    "It's more convenient to open files using a context manager and it's going to be more useful in most cases.\n",
    "The benefit of context managers is that it enables us to work with a file within the block below and after we exit\n",
    "this block of code it automatically closes the file for us, so we don't have to worry about it."
   ]
  },
  {
   "cell_type": "code",
   "execution_count": 7,
   "metadata": {
    "collapsed": true
   },
   "outputs": [
    {
     "name": "stdout",
     "output_type": "stream",
     "text": [
      "1) This is a test file\n",
      "2) With multiple lines of data...\n",
      "3) Third line\n",
      "4) Fourth line\n",
      "5) Fifth line\n",
      "6) Sixth line\n",
      "7) Seventh line\n",
      "8) Eighth line\n",
      "9) Ninth line\n",
      "10) Tenth line\n"
     ]
    }
   ],
   "source": [
    "with open(file=\"text.txt\", mode=\"r\") as f:\n",
    "    contents = f.read()\n",
    "    print(contents)"
   ]
  },
  {
   "cell_type": "markdown",
   "metadata": {},
   "source": [
    "We can read the whole file using a **read()** method called on a file. "
   ]
  },
  {
   "cell_type": "code",
   "execution_count": 17,
   "metadata": {},
   "outputs": [
    {
     "name": "stdout",
     "output_type": "stream",
     "text": [
      "1) This is a test file\n",
      "2) With multiple lines of data...\n"
     ]
    }
   ],
   "source": [
    "with open(file=\"text.txt\", mode=\"r\") as f:\n",
    "    contents = f.readline()\n",
    "    print(contents, end='')\n",
    "    \n",
    "    contents = f.readline()\n",
    "    print(contents, end='')    "
   ]
  },
  {
   "cell_type": "markdown",
   "metadata": {},
   "source": [
    "The **readline()** method reads a single line from a file, every time we run this method on a file it gets the next line of it as you can see above.\n",
    "\n",
    "While working with bigger files it's a better idea to use a loop and getting a single line each time so we don't run out of memory."
   ]
  },
  {
   "cell_type": "code",
   "execution_count": 18,
   "metadata": {},
   "outputs": [
    {
     "name": "stdout",
     "output_type": "stream",
     "text": [
      "1) This is a test file\n",
      "2) With multiple lines of data...\n",
      "3) Third line\n",
      "4) Fourth line\n",
      "5) Fifth line\n",
      "6) Sixth line\n",
      "7) Seventh line\n",
      "8) Eighth line\n",
      "9) Ninth line\n",
      "10) Tenth line"
     ]
    }
   ],
   "source": [
    "with open(file=\"text.txt\", mode=\"r\") as f:\n",
    "    for line in f:\n",
    "        print(line, end='')\n",
    "       "
   ]
  },
  {
   "cell_type": "code",
   "execution_count": 22,
   "metadata": {},
   "outputs": [],
   "source": [
    "with open(file=\"text2.txt\", mode=\"w\") as f:\n",
    "    pass\n",
    "       "
   ]
  },
  {
   "cell_type": "markdown",
   "metadata": {},
   "source": [
    "Opening a file in write mode with a file name of a file that doesn't exist is going to create a new file.\n",
    "Then we can write in this file using the **.write()** method.\n",
    "\n",
    "It's advised to work on copies of files if we don't want to erase or alter the file contents. We can do so in a convenient way doing as follows:"
   ]
  },
  {
   "cell_type": "code",
   "execution_count": 29,
   "metadata": {},
   "outputs": [],
   "source": [
    "with open(file=\"text.txt\", mode=\"r\") as rf:\n",
    "    with open(file=\"text_copy.txt\", mode=\"w\") as wf:\n",
    "        for line in rf:\n",
    "            wf.write(line)"
   ]
  },
  {
   "cell_type": "markdown",
   "metadata": {},
   "source": [
    "We can also open and copy images with one major difference, which is the appended \"b\" to the mode value, which stands for binary mode."
   ]
  },
  {
   "cell_type": "code",
   "execution_count": 28,
   "metadata": {},
   "outputs": [],
   "source": [
    "with open(file=\"image.jpeg\", mode=\"rb\") as rf:\n",
    "    with open(file=\"image_copy.jpeg\", mode=\"wb\") as wf:\n",
    "        for line in rf:\n",
    "            wf.write(line)"
   ]
  }
 ],
 "metadata": {
  "kernelspec": {
   "display_name": "Python 3",
   "language": "python",
   "name": "python3"
  },
  "language_info": {
   "codemirror_mode": {
    "name": "ipython",
    "version": 3
   },
   "file_extension": ".py",
   "mimetype": "text/x-python",
   "name": "python",
   "nbconvert_exporter": "python",
   "pygments_lexer": "ipython3",
   "version": "3.7.6"
  }
 },
 "nbformat": 4,
 "nbformat_minor": 4
}
